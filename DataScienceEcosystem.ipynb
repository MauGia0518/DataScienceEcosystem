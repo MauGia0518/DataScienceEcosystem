{
 "cells": [
  {
   "cell_type": "markdown",
   "id": "f1760cfa-c4c9-4db0-a4c9-6c343e4cdd94",
   "metadata": {},
   "source": [
    "# Data Science Tools and Ecosystem"
   ]
  },
  {
   "cell_type": "markdown",
   "id": "0cefd332-987b-453f-8362-d93286ed13a1",
   "metadata": {},
   "source": [
    "In this notebook, Data Science tools and Ecosystem are summarized "
   ]
  },
  {
   "cell_type": "markdown",
   "id": "e0d941ba-845f-4fb4-8965-e8ff67c856af",
   "metadata": {},
   "source": [
    "**Objectives** \n",
    "* Popular Data Science programming languages \n",
    "* Commonly used libraries \n",
    "* Other used Data Science tools\n",
    "* Arithmatic expressions in Python\n"
   ]
  },
  {
   "cell_type": "markdown",
   "id": "30ba51fc-3b6a-4db2-bce9-bc7e432ac395",
   "metadata": {},
   "source": [
    "Some of the most commonly used programming languages in Data Science are: \n",
    "\n",
    "1. Python\n",
    "2. SQL \n",
    "3. R \n",
    "4. Julia\n",
    "5. Scala "
   ]
  },
  {
   "cell_type": "markdown",
   "id": "d7a15016-acd9-42d4-9856-0c2fa858e6e5",
   "metadata": {},
   "source": [
    "Some of the most commonly used libraries in the field of Data Science include:\n",
    "\n",
    "1. TensorFlow  \n",
    "2. Numpy\n",
    "3. Scipy \n",
    "4. Motplotlib \n",
    "5. PyTorch \n"
   ]
  },
  {
   "cell_type": "markdown",
   "id": "29eb3d83-9cf8-492f-a745-8e61b2a137df",
   "metadata": {},
   "source": [
    "## Data Science Tools  \n",
    "\n",
    "**JupyterLab**               **JupyterNotebook**             **PyCharm** "
   ]
  },
  {
   "cell_type": "markdown",
   "id": "a4ec5464-2296-46d2-b09e-b6f2fea5faf0",
   "metadata": {},
   "source": [
    "### The line below shows a few examples of evaluated mathematical expressions in Python"
   ]
  },
  {
   "cell_type": "code",
   "execution_count": 3,
   "id": "8f5902df-4fc3-4ab2-9a6a-f3999ec45bce",
   "metadata": {},
   "outputs": [
    {
     "data": {
      "text/plain": [
       "37"
      ]
     },
     "execution_count": 3,
     "metadata": {},
     "output_type": "execute_result"
    }
   ],
   "source": [
    "# this is a simple arithmatic expression to mutiply, then add integers\n",
    "(5*6)+7"
   ]
  },
  {
   "cell_type": "code",
   "execution_count": 6,
   "id": "9516b39a-52c6-4e4a-a1a1-8ca7c7c9eb17",
   "metadata": {},
   "outputs": [
    {
     "data": {
      "text/plain": [
       "3.0"
      ]
     },
     "execution_count": 6,
     "metadata": {},
     "output_type": "execute_result"
    }
   ],
   "source": [
    "# This will convert 180 minutes to hours by deviding by 60\n",
    "(180/60)"
   ]
  },
  {
   "cell_type": "markdown",
   "id": "0c3c03d0-f104-4305-aa13-45d73f707c52",
   "metadata": {},
   "source": [
    "## Author \n",
    "Maurizio Bernal"
   ]
  }
 ],
 "metadata": {
  "kernelspec": {
   "display_name": "Python",
   "language": "python",
   "name": "conda-env-python-py"
  },
  "language_info": {
   "codemirror_mode": {
    "name": "ipython",
    "version": 3
   },
   "file_extension": ".py",
   "mimetype": "text/x-python",
   "name": "python",
   "nbconvert_exporter": "python",
   "pygments_lexer": "ipython3",
   "version": "3.7.12"
  }
 },
 "nbformat": 4,
 "nbformat_minor": 5
}
